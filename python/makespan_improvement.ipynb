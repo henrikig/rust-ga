{
 "cells": [
  {
   "cell_type": "code",
   "execution_count": null,
   "id": "whole-dublin",
   "metadata": {},
   "outputs": [],
   "source": [
    "## Imports\n",
    "\n",
    "import plotly.express as px\n",
    "import pandas as pd"
   ]
  },
  {
   "cell_type": "code",
   "execution_count": null,
   "id": "nutritional-charm",
   "metadata": {},
   "outputs": [],
   "source": [
    "## Constants\n",
    "\n",
    "FILE_NAME = \"../solutions/improvement/ga/bcbx/n120m8-03.csv\""
   ]
  },
  {
   "cell_type": "code",
   "execution_count": null,
   "id": "liked-proportion",
   "metadata": {},
   "outputs": [],
   "source": [
    "## Visualize makespan vs iterations\n",
    "\n",
    "df = pd.read_csv(\n",
    "    FILE_NAME, header=0, names=[\"iterations\", \"makespan\", \"count\", \"time\"], index_col=None\n",
    ")\n",
    "fig = px.line(df, x=\"iterations\", y=\"makespan\", title=\"Makespan\")\n",
    "fig.show()"
   ]
  },
  {
   "cell_type": "code",
   "execution_count": null,
   "id": "crazy-riverside",
   "metadata": {},
   "outputs": [],
   "source": [
    "## Visualize makespan vs makespan count\n",
    "\n",
    "df = pd.read_csv(\n",
    "    FILE_NAME, header=0, names=[\"iterations\", \"makespan\", \"count\", \"time\"], index_col=None\n",
    ")\n",
    "fig = px.line(df, x=\"time\", y=\"makespan\", title=\"Makespan\")\n",
    "fig.show()"
   ]
  },
  {
   "cell_type": "code",
   "execution_count": null,
   "id": "thousand-alcohol",
   "metadata": {},
   "outputs": [],
   "source": [
    "## Visualize makespan\n",
    "IG_FILE = \"../solutions/improvement/ig/n120m8-01.csv\"\n",
    "df = pd.read_csv(\n",
    "    IG_FILE, header=0, names=[\"iterations\", \"makespan\", \"count\", \"time\"], index_col=None\n",
    ")\n",
    "fig = px.line(df, x=\"iterations\", y=\"makespan\", title=\"Makespan\")\n",
    "fig.show()"
   ]
  },
  {
   "cell_type": "code",
   "execution_count": null,
   "id": "religious-wells",
   "metadata": {},
   "outputs": [],
   "source": [
    "## Visualize makespan\n",
    "IG_FILE = \"../solutions/improvement/ig/n120m8-01.csv\"\n",
    "df = pd.read_csv(\n",
    "    IG_FILE, header=0, names=[\"iterations\", \"makespan\", \"count\", \"time\"], index_col=None\n",
    ")\n",
    "fig = px.line(df, x=\"time\", y=\"makespan\", title=\"Makespan\")\n",
    "fig.show()"
   ]
  },
  {
   "cell_type": "code",
   "execution_count": null,
   "id": "athletic-helicopter",
   "metadata": {},
   "outputs": [],
   "source": []
  }
 ],
 "metadata": {
  "kernelspec": {
   "display_name": "env",
   "language": "python",
   "name": "env"
  },
  "language_info": {
   "codemirror_mode": {
    "name": "ipython",
    "version": 3
   },
   "file_extension": ".py",
   "mimetype": "text/x-python",
   "name": "python",
   "nbconvert_exporter": "python",
   "pygments_lexer": "ipython3",
   "version": "3.8.6"
  }
 },
 "nbformat": 4,
 "nbformat_minor": 5
}
