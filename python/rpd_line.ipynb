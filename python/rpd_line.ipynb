{
 "cells": [
  {
   "cell_type": "markdown",
   "id": "efb904f3",
   "metadata": {},
   "source": [
    "### Imports"
   ]
  },
  {
   "cell_type": "code",
   "execution_count": null,
   "id": "9a0a7dff",
   "metadata": {},
   "outputs": [],
   "source": [
    "from utils import plot_line_diagram, merge_and_line, merge_and_line_stages, parse_stage\n",
    "import os"
   ]
  },
  {
   "cell_type": "code",
   "execution_count": null,
   "id": "b2defe52",
   "metadata": {},
   "outputs": [],
   "source": [
    "SAVE_IMAGE = True\n",
    "\n",
    "# Save image as file\n",
    "def save_line_image(fig, filename):\n",
    "    if not os.path.exists(\"images/line\"):\n",
    "        os.mkdir(\"images/line\")\n",
    "\n",
    "    fig.write_image(\"images/line/\" + filename + \".pdf\")\n",
    "    \n",
    "# Save image as file\n",
    "def save_line_image_stages(fig, filename):\n",
    "    if not os.path.exists(\"images/stages\"):\n",
    "        os.mkdir(\"images/stages\")\n",
    "\n",
    "    fig.write_image(\"images/stages/\" + filename + \".pdf\")"
   ]
  },
  {
   "cell_type": "markdown",
   "id": "235a457f",
   "metadata": {},
   "source": [
    "### Makespan procedure"
   ]
  },
  {
   "cell_type": "code",
   "execution_count": null,
   "id": "8b57e80d",
   "metadata": {},
   "outputs": [],
   "source": [
    "arguments = [\n",
    "    [\"../solutions/fifo\", \"../solutions/first_complete\"],\n",
    "    [\"FIFO\", \"First-completion\"],\n",
    "    [\"Number of jobs\", \"Number of stages\"],\n",
    "    \"RPD (%)\",\n",
    "]\n",
    "\n",
    "fig_jobs = merge_and_line(arguments[0], arguments[1], arguments[2][0], arguments[3])\n",
    "fig_stages = merge_and_line_stages(arguments[0], arguments[1], arguments[2][1], arguments[3])\n",
    "\n",
    "fig_jobs.update_layout(legend=dict(x=0.75, y=0.98))\n",
    "fig_stages.update_layout(legend=dict(x=0.05, y=0.98))\n",
    "\n",
    "fig_jobs.show()\n",
    "fig_stages.show()\n",
    "\n",
    "if SAVE_IMAGE:\n",
    "    save_line_image(fig_jobs, \"0_makespan\")\n",
    "    save_line_image_stages(fig_stages, \"0_makespan\")"
   ]
  },
  {
   "cell_type": "markdown",
   "id": "eaa5c259",
   "metadata": {},
   "source": [
    "### Generational scheme"
   ]
  },
  {
   "cell_type": "code",
   "execution_count": null,
   "id": "d3d30201",
   "metadata": {},
   "outputs": [],
   "source": [
    "arguments = [\n",
    "    [\"../solutions/generational\", \"../solutions/steady_state\"],\n",
    "    [\"Generational\", \"Steady\"],\n",
    "    [\"Number of jobs\", \"Number of stages\"],\n",
    "    \"RPD (%)\",\n",
    "]\n",
    "\n",
    "fig_jobs = merge_and_line(arguments[0], arguments[1], arguments[2][0], arguments[3])\n",
    "fig_stages = merge_and_line_stages(arguments[0], arguments[1], arguments[2][1], arguments[3])\n",
    "\n",
    "fig_jobs.update_layout(legend=dict(x=0.75, y=0.98))\n",
    "fig_stages.update_layout(legend=dict(x=0.72, y=0.98))\n",
    "\n",
    "fig_jobs.show()\n",
    "fig_stages.show()\n",
    "\n",
    "if SAVE_IMAGE:\n",
    "    save_line_image(fig_jobs, \"1_generational\")\n",
    "    save_line_image_stages(fig_stages, \"1_generational\")"
   ]
  },
  {
   "cell_type": "markdown",
   "id": "c74d96f1",
   "metadata": {},
   "source": [
    "### Initialisation"
   ]
  },
  {
   "cell_type": "code",
   "execution_count": null,
   "id": "3be157eb",
   "metadata": {},
   "outputs": [],
   "source": [
    "new_names={\n",
    "    \"0.2\": \"GCH (0.2)\",\n",
    "    \"0.5\": \"GCH (0.5)\",\n",
    "    \"1.0\": \"GCH (1.0)\",\n",
    "}\n",
    "\n",
    "arguments = [\n",
    "    \"../solutions/initialisation\", \n",
    "    [\"construction\"], \n",
    "    [\"Number of jobs\", \"Number of stages\"],\n",
    "    \"RPD (%)\",\n",
    "    new_names\n",
    "]\n",
    "\n",
    "fig_jobs = plot_line_diagram(arguments[0], arguments[1], arguments[2][0], arguments[3], arguments[4])\n",
    "fig_stages = plot_line_diagram(arguments[0], arguments[1], arguments[2][1], arguments[3], arguments[4], parser=parse_stage)\n",
    "\n",
    "fig_jobs.show()\n",
    "fig_stages.show()\n",
    "\n",
    "if SAVE_IMAGE:\n",
    "    save_line_image(fig_jobs, \"2_initialisation\")\n",
    "    save_line_image_stages(fig_stages, \"2_initialisation\")"
   ]
  },
  {
   "cell_type": "markdown",
   "id": "8a3a7794",
   "metadata": {},
   "source": [
    "### Population size"
   ]
  },
  {
   "cell_type": "code",
   "execution_count": null,
   "id": "3c344ad1",
   "metadata": {},
   "outputs": [],
   "source": [
    "arguments = [\n",
    "    \"../solutions/popsize\", \n",
    "    [\"pop_size\"], \n",
    "    [\"Number of jobs\", \"Number of stages\"],\n",
    "    \"RPD (%)\",\n",
    "]\n",
    "\n",
    "fig_jobs = plot_line_diagram(arguments[0], arguments[1], arguments[2][0], arguments[3])\n",
    "fig_stages = plot_line_diagram(arguments[0], arguments[1], arguments[2][1], arguments[3], parser=parse_stage)\n",
    "\n",
    "fig_jobs.update_layout(legend=dict(x=0.85, y=1))\n",
    "fig_stages.update_layout(legend=dict(x=0.05, y=1))\n",
    "\n",
    "fig_jobs.show()\n",
    "fig_stages.show()\n",
    "\n",
    "if SAVE_IMAGE:\n",
    "    save_line_image(fig_jobs, \"3_popsize\")\n",
    "    save_line_image_stages(fig_stages, \"3_popsize\")"
   ]
  },
  {
   "cell_type": "markdown",
   "id": "03fdd454",
   "metadata": {},
   "source": [
    "### Tournament size"
   ]
  },
  {
   "cell_type": "code",
   "execution_count": null,
   "id": "20dabe6c",
   "metadata": {},
   "outputs": [],
   "source": [
    "new_names = {\n",
    "    \"2\": \"k=2\",\n",
    "    \"3\": \"k=3\",\n",
    "    \"5\": \"k=5\",\n",
    "    \"8\": \"k=8\",\n",
    "}\n",
    "    \n",
    "arguments = [\n",
    "    \"../solutions/k_tournament\", \n",
    "    [\"k_tournament\"],\n",
    "    [\"Number of jobs\", \"Number of stages\"],\n",
    "    \"RPD (%)\",\n",
    "    new_names\n",
    "]\n",
    "\n",
    "fig_jobs = plot_line_diagram(arguments[0], arguments[1], arguments[2][0], arguments[3], arguments[4])\n",
    "fig_stages = plot_line_diagram(arguments[0], arguments[1], arguments[2][1], arguments[3], arguments[4], parser=parse_stage)\n",
    "\n",
    "fig_jobs.update_layout(legend=dict(x=0.85, y=1))\n",
    "fig_stages.update_layout(legend=dict(x=0.05, y=1))\n",
    "\n",
    "fig_jobs.show()\n",
    "fig_stages.show()\n",
    "\n",
    "if SAVE_IMAGE:\n",
    "    save_line_image(fig_jobs, \"4_k_tournament\")\n",
    "    save_line_image_stages(fig_stages, \"4_k_tournament\")"
   ]
  },
  {
   "cell_type": "markdown",
   "id": "483bb024",
   "metadata": {},
   "source": [
    "### Crossover"
   ]
  },
  {
   "cell_type": "code",
   "execution_count": null,
   "id": "9e5e3d2c",
   "metadata": {},
   "outputs": [],
   "source": [
    "new_names={\n",
    "    \"SB2OX\": \"SBOX\",\n",
    "    \"SJ2OX\": \"SJOX\"\n",
    "}\n",
    "    \n",
    "arguments = [\n",
    "    \"../solutions/xover-q\", \n",
    "    [\"xover_type\"],\n",
    "    [\"Number of jobs\", \"Number of stages\"],\n",
    "    \"RPD (%)\",\n",
    "    new_names\n",
    "]\n",
    "\n",
    "fig_jobs = plot_line_diagram(arguments[0], arguments[1], arguments[2][0], arguments[3], arguments[4])\n",
    "fig_stages = plot_line_diagram(arguments[0], arguments[1], arguments[2][1], arguments[3], arguments[4], parser=parse_stage)\n",
    "\n",
    "fig_jobs.update_layout(legend=dict(x=0.8, y=1))\n",
    "fig_stages.update_layout(legend=dict(x=0.05, y=1))\n",
    "\n",
    "fig_jobs.show()\n",
    "fig_stages.show()\n",
    "\n",
    "if SAVE_IMAGE:\n",
    "    save_line_image(fig_jobs, \"5_crossover\")\n",
    "    save_line_image_stages(fig_stages, \"5_crossover\")"
   ]
  },
  {
   "cell_type": "markdown",
   "id": "bf00e653",
   "metadata": {},
   "source": [
    "### Mutation"
   ]
  },
  {
   "cell_type": "code",
   "execution_count": null,
   "id": "c9447c07",
   "metadata": {},
   "outputs": [],
   "source": [
    "arguments = [\n",
    "    \"../solutions/mutation-random\", \n",
    "    [\"mutation_type\"], \n",
    "    [\"Number of jobs\", \"Number of stages\"],\n",
    "    \"RPD (%)\",\n",
    "]\n",
    "\n",
    "fig_jobs = plot_line_diagram(arguments[0], arguments[1], arguments[2][0], arguments[3])\n",
    "fig_stages = plot_line_diagram(arguments[0], arguments[1], arguments[2][1], arguments[3], parser=parse_stage)\n",
    "\n",
    "fig_jobs.update_layout(legend=dict(x=0.82, y=1))\n",
    "fig_stages.update_layout(legend=dict(x=0.05, y=1))\n",
    "\n",
    "fig_jobs.show()\n",
    "fig_stages.show()\n",
    "\n",
    "if SAVE_IMAGE:\n",
    "    save_line_image(fig_jobs, \"6_mutation\")\n",
    "    save_line_image_stages(fig_stages, \"6_mutation\")"
   ]
  },
  {
   "cell_type": "code",
   "execution_count": null,
   "id": "defe43b0",
   "metadata": {},
   "outputs": [],
   "source": [
    "new_names={\n",
    "    \"0.0\": \"Pm=0.0\",\n",
    "    \"0.01\": \"Pm=0.01\",\n",
    "    \"0.02\": \"Pm=0.02\",\n",
    "    \"0.05\": \"Pm=0.05\",\n",
    "    \"0.1\": \"Pm=0.1\",\n",
    "    \"0.2\": \"Pm=0.2\",\n",
    "}\n",
    "\n",
    "arguments = [\n",
    "    \"../solutions/mutation-prob\", \n",
    "    [\"mutation_prob\"],\n",
    "    [\"Number of jobs\", \"Number of stages\"],\n",
    "    \"RPD (%)\",\n",
    "    new_names\n",
    "]\n",
    "\n",
    "fig_jobs = plot_line_diagram(arguments[0], arguments[1], arguments[2][0], arguments[3], arguments[4])\n",
    "fig_stages = plot_line_diagram(arguments[0], arguments[1], arguments[2][1], arguments[3], arguments[4], parser=parse_stage)\n",
    "\n",
    "fig_jobs.update_layout(legend=dict(x=0.82, y=1))\n",
    "fig_stages.update_layout(legend=dict(x=0.05, y=1))\n",
    "\n",
    "fig_jobs.show()\n",
    "fig_stages.show()\n",
    "\n",
    "if SAVE_IMAGE:\n",
    "    save_line_image(fig_jobs, \"7_mutation-prob\")\n",
    "    save_line_image_stages(fig_stages, \"7_mutation-prob\")"
   ]
  },
  {
   "cell_type": "markdown",
   "id": "5a8999ff",
   "metadata": {},
   "source": [
    "### Local search"
   ]
  },
  {
   "cell_type": "code",
   "execution_count": null,
   "id": "a2c80419",
   "metadata": {},
   "outputs": [],
   "source": [
    "arguments = [\n",
    "    \"../solutions/local_search\", \n",
    "    [\"approx_calc\"], \n",
    "    [\"Number of jobs\", \"Number of stages\"],\n",
    "    \"RPD (%)\",\n",
    "]\n",
    "\n",
    "fig_jobs = plot_line_diagram(arguments[0], arguments[1], arguments[2][0], arguments[3])\n",
    "fig_stages = plot_line_diagram(arguments[0], arguments[1], arguments[2][1], arguments[3], parser=parse_stage)\n",
    "\n",
    "fig_jobs.update_layout(legend=dict(x=0.75, y=1))\n",
    "fig_stages.update_layout(legend=dict(x=0.05, y=1))\n",
    "\n",
    "fig_jobs.show()\n",
    "fig_stages.show()\n",
    "\n",
    "if SAVE_IMAGE:\n",
    "    save_line_image(fig_jobs, \"8_local-search\")\n",
    "    save_line_image_stages(fig_stages, \"8_local-search\")"
   ]
  },
  {
   "cell_type": "markdown",
   "id": "separated-solution",
   "metadata": {},
   "source": [
    "### Crowding deviation"
   ]
  },
  {
   "cell_type": "code",
   "execution_count": null,
   "id": "047585c2",
   "metadata": {},
   "outputs": [],
   "source": [
    "arguments = [\n",
    "    \"../solutions/crowding-deviation\", \n",
    "    [\"crowding_scale\", \"k_nearest\"],\n",
    "    [\"Number of jobs\", \"Number of stages\"],\n",
    "    \"RPD (%)\",\n",
    "]\n",
    "\n",
    "fig_jobs = plot_line_diagram(arguments[0], arguments[1], arguments[2][0], arguments[3])\n",
    "fig_stages = plot_line_diagram(arguments[0], arguments[1], arguments[2][1], arguments[3], parser=parse_stage)\n",
    "\n",
    "fig_jobs.show()\n",
    "fig_stages.show()\n",
    "\n",
    "if SAVE_IMAGE:\n",
    "    save_line_image(fig_jobs, \"9a_crowding-deviation\")\n",
    "    save_line_image_stages(fig_stages, \"9a_crowding-deviation\")"
   ]
  },
  {
   "cell_type": "markdown",
   "id": "95327be8",
   "metadata": {},
   "source": [
    "### Crowding exact"
   ]
  },
  {
   "cell_type": "code",
   "execution_count": null,
   "id": "8f672ea4",
   "metadata": {},
   "outputs": [],
   "source": [
    "arguments = [\n",
    "    \"../solutions/crowding-exact\", \n",
    "    [\"crowding_scale\", \"k_nearest\"], \n",
    "    [\"Number of jobs\", \"Number of stages\"],\n",
    "    \"RPD (%)\",\n",
    "]\n",
    "\n",
    "fig_jobs = plot_line_diagram(arguments[0], arguments[1], arguments[2][0], arguments[3])\n",
    "fig_stages = plot_line_diagram(arguments[0], arguments[1], arguments[2][1], arguments[3], parser=parse_stage)\n",
    "\n",
    "fig_jobs.show()\n",
    "fig_stages.show()\n",
    "\n",
    "if SAVE_IMAGE:\n",
    "    save_line_image(fig_jobs, \"9a_crowding-exact\")\n",
    "    save_line_image_stages(fig_stages, \"9a_crowding-exact\")"
   ]
  },
  {
   "cell_type": "markdown",
   "id": "eb2a8bc6",
   "metadata": {},
   "source": [
    "### Crowding vs No Crowding"
   ]
  },
  {
   "cell_type": "code",
   "execution_count": null,
   "id": "3ac56d82",
   "metadata": {},
   "outputs": [],
   "source": [
    "new_names = {\n",
    "    \"DeviationDistance\": \"Deviation Distance\",\n",
    "    \"ExactMatch\": \"Exact Match\",\n",
    "}\n",
    "\n",
    "arguments = [\n",
    "    \"../solutions/crowding-all\", \n",
    "    [\"distance_metric\"],\n",
    "    [\"Number of jobs\", \"Number of stages\"],\n",
    "    \"RPD (%)\",\n",
    "    new_names\n",
    "]\n",
    "\n",
    "fig_jobs = plot_line_diagram(arguments[0], arguments[1], arguments[2][0], arguments[3], arguments[4])\n",
    "fig_stages = plot_line_diagram(arguments[0], arguments[1], arguments[2][1], arguments[3], arguments[4], parser=parse_stage)\n",
    "\n",
    "fig_jobs.update_layout(legend=dict(x=0.72, y=0.98))\n",
    "fig_stages.update_layout(legend=dict(x=0.05, y=0.98))\n",
    "\n",
    "fig_jobs.show()\n",
    "fig_stages.show()\n",
    "\n",
    "if SAVE_IMAGE:\n",
    "    save_line_image(fig_jobs, \"9c_crowding-all\")\n",
    "    save_line_image_stages(fig_stages, \"9c_crowding-all\")"
   ]
  },
  {
   "cell_type": "markdown",
   "id": "e8dfe981",
   "metadata": {},
   "source": [
    "### Replacement"
   ]
  },
  {
   "cell_type": "code",
   "execution_count": null,
   "id": "19329a60",
   "metadata": {},
   "outputs": [],
   "source": [
    "new_names={\"No Replacement, nan\": \"No replacement\"}\n",
    "\n",
    "arguments = [\n",
    "    \"../solutions/replacement-rate\", \n",
    "    [\"non_improving_iterations\", \"allways_keep\"],\n",
    "    [\"Number of jobs\", \"Number of stages\"],\n",
    "    \"RPD (%)\",\n",
    "    new_names\n",
    "]\n",
    "\n",
    "fig_jobs = plot_line_diagram(arguments[0], arguments[1], arguments[2][0], arguments[3], arguments[4])\n",
    "fig_stages = plot_line_diagram(arguments[0], arguments[1], arguments[2][1], arguments[3], arguments[4], parser=parse_stage)\n",
    "\n",
    "fig_jobs.update_layout(legend=dict(x=0.05, y=0.98))\n",
    "fig_stages.update_layout(legend=dict(x=0.1, y=0.98))\n",
    "\n",
    "fig_jobs.show()\n",
    "fig_stages.show()\n",
    "\n",
    "if SAVE_IMAGE:\n",
    "    save_line_image(fig_jobs, \"10c_replacement_rate\")\n",
    "    save_line_image_stages(fig_stages, \"10c_replacement_rate\")"
   ]
  },
  {
   "cell_type": "code",
   "execution_count": null,
   "id": "463eaa48",
   "metadata": {},
   "outputs": [],
   "source": [
    "new_names={\"No Replacement, 0\": \"No replacement\"}\n",
    "\n",
    "arguments = [\n",
    "    \"../solutions/replacement-type\", \n",
    "    [\"rtype\", \"non_improving_iterations\"],\n",
    "    [\"Number of jobs\", \"Number of stages\"],\n",
    "    \"RPD (%)\",\n",
    "    new_names\n",
    "]\n",
    "\n",
    "fig_jobs = plot_line_diagram(arguments[0], arguments[1], arguments[2][0], arguments[3], arguments[4])\n",
    "fig_stages = plot_line_diagram(arguments[0], arguments[1], arguments[2][1], arguments[3], arguments[4], parser=parse_stage)\n",
    "\n",
    "fig_jobs.show()\n",
    "fig_stages.show()\n",
    "\n",
    "if SAVE_IMAGE:\n",
    "    save_line_image(fig_jobs, \"10b_replacement-type\")\n",
    "    save_line_image_stages(fig_stages, \"10b_replacement-type\")"
   ]
  },
  {
   "cell_type": "markdown",
   "id": "d58b4310",
   "metadata": {},
   "source": [
    "### Iterated greedy"
   ]
  },
  {
   "cell_type": "code",
   "execution_count": null,
   "id": "3d6e1dff",
   "metadata": {},
   "outputs": [],
   "source": [
    "arguments = [\n",
    "    \"../solutions/ig-params\", \n",
    "    [\"t\", \"d\"], \n",
    "    [\"Number of jobs\", \"Number of stages\"],\n",
    "    \"RPD (%)\",\n",
    "]\n",
    "\n",
    "fig_jobs = plot_line_diagram(arguments[0], arguments[1], arguments[2][0], arguments[3])\n",
    "fig_stages = plot_line_diagram(arguments[0], arguments[1], arguments[2][1], arguments[3], parser=parse_stage)\n",
    "\n",
    "fig_jobs.show()\n",
    "fig_stages.show()\n",
    "\n",
    "if SAVE_IMAGE:\n",
    "    save_line_image(fig_jobs, \"12_iterated-greedy\")\n",
    "    save_line_image_stages(fig_stages, \"12_iterated-greedy\")"
   ]
  },
  {
   "cell_type": "markdown",
   "id": "28a7d213",
   "metadata": {},
   "source": [
    "### Q-Learning Scaled"
   ]
  },
  {
   "cell_type": "code",
   "execution_count": null,
   "id": "4fc95975",
   "metadata": {},
   "outputs": [],
   "source": [
    "arguments = [\n",
    "    \"../solutions/qlearning\", \n",
    "    [\"learning_rate\", \"epsilon\"],\n",
    "    [\"Number of jobs\", \"Number of stages\"],\n",
    "    \"RPD (%)\",\n",
    "]\n",
    "\n",
    "fig_jobs = plot_line_diagram(arguments[0], arguments[1], arguments[2][0], arguments[3])\n",
    "fig_stages = plot_line_diagram(arguments[0], arguments[1], arguments[2][1], arguments[3], parser=parse_stage)\n",
    "\n",
    "\n",
    "fig_jobs.show()\n",
    "fig_stages.show()\n",
    "\n",
    "if SAVE_IMAGE:\n",
    "    save_line_image(fig_jobs, \"5b_qlearning\")\n",
    "    save_line_image_stages(fig_stages, \"5b_qlearning\")"
   ]
  },
  {
   "cell_type": "markdown",
   "id": "d4284e79",
   "metadata": {},
   "source": [
    "### Q-Learning Non-Scaled Time"
   ]
  },
  {
   "cell_type": "code",
   "execution_count": null,
   "id": "065f661a",
   "metadata": {},
   "outputs": [],
   "source": [
    "arguments = [\n",
    "    \"../solutions/qlearning-noscale\", \n",
    "    [\"learning_rate\", \"epsilon\"], \n",
    "    [\"Number of jobs\", \"Number of stages\"],\n",
    "    \"RPD (%)\",\n",
    "]\n",
    "\n",
    "fig_jobs = plot_line_diagram(arguments[0], arguments[1], arguments[2][0], arguments[3])\n",
    "fig_stages = plot_line_diagram(arguments[0], arguments[1], arguments[2][1], arguments[3], parser=parse_stage)\n",
    "\n",
    "fig_jobs.update_layout(legend=dict(x=0.82, y=1))\n",
    "fig_stages.update_layout(legend=dict(x=0.05, y=1))\n",
    "\n",
    "fig_jobs.show()\n",
    "fig_stages.show()\n",
    "\n",
    "if SAVE_IMAGE:\n",
    "    save_line_image(fig_jobs, \"5c_qlearning-noscale\")\n",
    "    save_line_image_stages(fig_stages, \"5c_qlearning-noscale\")"
   ]
  },
  {
   "cell_type": "code",
   "execution_count": null,
   "id": "36751271",
   "metadata": {},
   "outputs": [],
   "source": []
  }
 ],
 "metadata": {
  "kernelspec": {
   "display_name": "env",
   "language": "python",
   "name": "env"
  },
  "language_info": {
   "codemirror_mode": {
    "name": "ipython",
    "version": 3
   },
   "file_extension": ".py",
   "mimetype": "text/x-python",
   "name": "python",
   "nbconvert_exporter": "python",
   "pygments_lexer": "ipython3",
   "version": "3.8.6"
  }
 },
 "nbformat": 4,
 "nbformat_minor": 5
}
