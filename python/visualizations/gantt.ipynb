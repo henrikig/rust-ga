{
 "cells": [
  {
   "cell_type": "markdown",
   "id": "through-screening",
   "metadata": {},
   "source": [
    "### Schedule Visualization"
   ]
  },
  {
   "cell_type": "code",
   "execution_count": 25,
   "id": "informed-alias",
   "metadata": {
    "scrolled": true
   },
   "outputs": [],
   "source": [
    "import altair as alt\n",
    "import pandas as pd\n",
    "import json\n",
    "from datetime import datetime, date, time, timedelta"
   ]
  },
  {
   "cell_type": "code",
   "execution_count": 49,
   "id": "educated-interview",
   "metadata": {},
   "outputs": [],
   "source": [
    "file = \"../../solutions/ga/n20m2-1.json\"\n",
    "\n",
    "with open(file, \"r\") as f:\n",
    "        solution: str = json.load(f)\n",
    "            \n",
    "schedule: list = []\n",
    "    \n",
    "for stage in range(solution[\"stages\"]):\n",
    "        for machine in range(solution[\"machines\"][stage]):\n",
    "            for job, completion_time in solution[\"machine_completions\"][stage][machine]:\n",
    "                start_time = completion_time - 30\n",
    "                schedule.append(\n",
    "                    dict(\n",
    "                        Machine=f\"{stage + 1, machine + 1}\",\n",
    "                        Start=start_time,\n",
    "                        End=completion_time,\n",
    "                        Job=f\"{job}\",\n",
    "                    )\n",
    "                )"
   ]
  },
  {
   "cell_type": "code",
   "execution_count": 61,
   "id": "instant-utilization",
   "metadata": {
    "scrolled": false
   },
   "outputs": [
    {
     "data": {
      "text/html": [
       "\n",
       "<div id=\"altair-viz-e74e3eca1c94439d8c55fba093ef67a7\"></div>\n",
       "<script type=\"text/javascript\">\n",
       "  var VEGA_DEBUG = (typeof VEGA_DEBUG == \"undefined\") ? {} : VEGA_DEBUG;\n",
       "  (function(spec, embedOpt){\n",
       "    let outputDiv = document.currentScript.previousElementSibling;\n",
       "    if (outputDiv.id !== \"altair-viz-e74e3eca1c94439d8c55fba093ef67a7\") {\n",
       "      outputDiv = document.getElementById(\"altair-viz-e74e3eca1c94439d8c55fba093ef67a7\");\n",
       "    }\n",
       "    const paths = {\n",
       "      \"vega\": \"https://cdn.jsdelivr.net/npm//vega@5?noext\",\n",
       "      \"vega-lib\": \"https://cdn.jsdelivr.net/npm//vega-lib?noext\",\n",
       "      \"vega-lite\": \"https://cdn.jsdelivr.net/npm//vega-lite@4.17.0?noext\",\n",
       "      \"vega-embed\": \"https://cdn.jsdelivr.net/npm//vega-embed@6?noext\",\n",
       "    };\n",
       "\n",
       "    function maybeLoadScript(lib, version) {\n",
       "      var key = `${lib.replace(\"-\", \"\")}_version`;\n",
       "      return (VEGA_DEBUG[key] == version) ?\n",
       "        Promise.resolve(paths[lib]) :\n",
       "        new Promise(function(resolve, reject) {\n",
       "          var s = document.createElement('script');\n",
       "          document.getElementsByTagName(\"head\")[0].appendChild(s);\n",
       "          s.async = true;\n",
       "          s.onload = () => {\n",
       "            VEGA_DEBUG[key] = version;\n",
       "            return resolve(paths[lib]);\n",
       "          };\n",
       "          s.onerror = () => reject(`Error loading script: ${paths[lib]}`);\n",
       "          s.src = paths[lib];\n",
       "        });\n",
       "    }\n",
       "\n",
       "    function showError(err) {\n",
       "      outputDiv.innerHTML = `<div class=\"error\" style=\"color:red;\">${err}</div>`;\n",
       "      throw err;\n",
       "    }\n",
       "\n",
       "    function displayChart(vegaEmbed) {\n",
       "      vegaEmbed(outputDiv, spec, embedOpt)\n",
       "        .catch(err => showError(`Javascript Error: ${err.message}<br>This usually means there's a typo in your chart specification. See the javascript console for the full traceback.`));\n",
       "    }\n",
       "\n",
       "    if(typeof define === \"function\" && define.amd) {\n",
       "      requirejs.config({paths});\n",
       "      require([\"vega-embed\"], displayChart, err => showError(`Error loading script: ${err.message}`));\n",
       "    } else {\n",
       "      maybeLoadScript(\"vega\", \"5\")\n",
       "        .then(() => maybeLoadScript(\"vega-lite\", \"4.17.0\"))\n",
       "        .then(() => maybeLoadScript(\"vega-embed\", \"6\"))\n",
       "        .catch(showError)\n",
       "        .then(() => displayChart(vegaEmbed));\n",
       "    }\n",
       "  })({\"config\": {\"view\": {\"continuousWidth\": 400, \"continuousHeight\": 300}}, \"data\": {\"name\": \"data-8444baf9cc4ed0c3deb8b65977710933\"}, \"mark\": \"bar\", \"encoding\": {\"color\": {\"field\": \"Job\", \"legend\": null, \"scale\": {\"scheme\": \"tableau20\"}, \"type\": \"quantitative\"}, \"x\": {\"field\": \"Start\", \"type\": \"quantitative\"}, \"x2\": {\"field\": \"End\"}, \"y\": {\"field\": \"Machine\", \"type\": \"nominal\"}}, \"height\": 400, \"width\": 850, \"$schema\": \"https://vega.github.io/schema/vega-lite/v4.17.0.json\", \"datasets\": {\"data-8444baf9cc4ed0c3deb8b65977710933\": [{\"Machine\": \"(1, 1)\", \"Start\": -3, \"End\": 27, \"Job\": 13}, {\"Machine\": \"(1, 1)\", \"Start\": 95, \"End\": 125, \"Job\": 18}, {\"Machine\": \"(1, 1)\", \"Start\": 178, \"End\": 208, \"Job\": 0}, {\"Machine\": \"(1, 1)\", \"Start\": 254, \"End\": 284, \"Job\": 8}, {\"Machine\": \"(1, 1)\", \"Start\": 334, \"End\": 364, \"Job\": 17}, {\"Machine\": \"(1, 1)\", \"Start\": 390, \"End\": 420, \"Job\": 1}, {\"Machine\": \"(1, 1)\", \"Start\": 436, \"End\": 466, \"Job\": 14}, {\"Machine\": \"(1, 1)\", \"Start\": 525, \"End\": 555, \"Job\": 19}, {\"Machine\": \"(1, 2)\", \"Start\": -1, \"End\": 29, \"Job\": 4}, {\"Machine\": \"(1, 2)\", \"Start\": 54, \"End\": 84, \"Job\": 10}, {\"Machine\": \"(1, 2)\", \"Start\": 103, \"End\": 133, \"Job\": 5}, {\"Machine\": \"(1, 2)\", \"Start\": 167, \"End\": 197, \"Job\": 6}, {\"Machine\": \"(1, 2)\", \"Start\": 207, \"End\": 237, \"Job\": 16}, {\"Machine\": \"(1, 2)\", \"Start\": 309, \"End\": 339, \"Job\": 9}, {\"Machine\": \"(1, 2)\", \"Start\": 350, \"End\": 380, \"Job\": 12}, {\"Machine\": \"(1, 2)\", \"Start\": 399, \"End\": 429, \"Job\": 11}, {\"Machine\": \"(1, 2)\", \"Start\": 500, \"End\": 530, \"Job\": 3}, {\"Machine\": \"(1, 2)\", \"Start\": 566, \"End\": 596, \"Job\": 15}, {\"Machine\": \"(2, 1)\", \"Start\": 19, \"End\": 49, \"Job\": 2}, {\"Machine\": \"(2, 1)\", \"Start\": 39, \"End\": 69, \"Job\": 13}, {\"Machine\": \"(2, 1)\", \"Start\": 154, \"End\": 184, \"Job\": 4}, {\"Machine\": \"(2, 1)\", \"Start\": 192, \"End\": 222, \"Job\": 5}, {\"Machine\": \"(2, 1)\", \"Start\": 221, \"End\": 251, \"Job\": 6}, {\"Machine\": \"(2, 1)\", \"Start\": 344, \"End\": 374, \"Job\": 0}, {\"Machine\": \"(2, 1)\", \"Start\": 416, \"End\": 446, \"Job\": 9}, {\"Machine\": \"(2, 1)\", \"Start\": 459, \"End\": 489, \"Job\": 12}, {\"Machine\": \"(2, 1)\", \"Start\": 492, \"End\": 522, \"Job\": 11}, {\"Machine\": \"(2, 1)\", \"Start\": 536, \"End\": 566, \"Job\": 14}, {\"Machine\": \"(2, 1)\", \"Start\": 616, \"End\": 646, \"Job\": 19}, {\"Machine\": \"(2, 2)\", \"Start\": 67, \"End\": 97, \"Job\": 7}, {\"Machine\": \"(2, 2)\", \"Start\": 170, \"End\": 200, \"Job\": 10}, {\"Machine\": \"(2, 2)\", \"Start\": 262, \"End\": 292, \"Job\": 18}, {\"Machine\": \"(2, 2)\", \"Start\": 354, \"End\": 384, \"Job\": 16}, {\"Machine\": \"(2, 2)\", \"Start\": 397, \"End\": 427, \"Job\": 8}, {\"Machine\": \"(2, 2)\", \"Start\": 466, \"End\": 496, \"Job\": 17}, {\"Machine\": \"(2, 2)\", \"Start\": 521, \"End\": 551, \"Job\": 1}, {\"Machine\": \"(2, 2)\", \"Start\": 556, \"End\": 586, \"Job\": 3}, {\"Machine\": \"(2, 2)\", \"Start\": 621, \"End\": 651, \"Job\": 15}]}}, {\"mode\": \"vega-lite\"});\n",
       "</script>"
      ],
      "text/plain": [
       "alt.Chart(...)"
      ]
     },
     "execution_count": 61,
     "metadata": {},
     "output_type": "execute_result"
    }
   ],
   "source": [
    "source = pd.DataFrame(schedule)\n",
    "\n",
    "alt.Chart(source).mark_bar().encode(\n",
    "    x=\"Start\", x2=\"End\", y=\"Machine\", color=alt.Color('Job', legend=None, scale=alt.Scale(scheme='tableau20')),\n",
    ").properties(\n",
    "    width=850,\n",
    "    height=400\n",
    ")"
   ]
  },
  {
   "cell_type": "code",
   "execution_count": null,
   "id": "answering-venue",
   "metadata": {},
   "outputs": [],
   "source": []
  }
 ],
 "metadata": {
  "kernelspec": {
   "display_name": "env",
   "language": "python",
   "name": "env"
  },
  "language_info": {
   "codemirror_mode": {
    "name": "ipython",
    "version": 3
   },
   "file_extension": ".py",
   "mimetype": "text/x-python",
   "name": "python",
   "nbconvert_exporter": "python",
   "pygments_lexer": "ipython3",
   "version": "3.8.6"
  }
 },
 "nbformat": 4,
 "nbformat_minor": 5
}
