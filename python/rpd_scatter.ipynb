{
 "cells": [
  {
   "cell_type": "markdown",
   "id": "2cefcb2a",
   "metadata": {},
   "source": [
    "### Imports"
   ]
  },
  {
   "cell_type": "code",
   "execution_count": null,
   "id": "257c97f9",
   "metadata": {},
   "outputs": [],
   "source": [
    "from utils import merge_and_plot, single_file_plot\n",
    "import os"
   ]
  },
  {
   "cell_type": "code",
   "execution_count": null,
   "id": "47c652ac",
   "metadata": {},
   "outputs": [],
   "source": [
    "SAVE_IMAGE = False\n",
    "\n",
    "# Save image as file\n",
    "def save_scatter_image(fig, filename):\n",
    "    if not os.path.exists(\"images/scatter\"):\n",
    "        os.mkdir(\"images/scatter\")\n",
    "\n",
    "    fig.write_image(\"images/scatter/\" + filename + \".pdf\")"
   ]
  },
  {
   "cell_type": "markdown",
   "id": "ffdcb6d0",
   "metadata": {},
   "source": [
    "### 0. Makespan calculation"
   ]
  },
  {
   "cell_type": "code",
   "execution_count": null,
   "id": "046a3332",
   "metadata": {},
   "outputs": [],
   "source": [
    "folders = [\"../solutions/fifo\", \"../solutions/first_complete\"]\n",
    "\n",
    "fig = merge_and_plot(\n",
    "    folders, \n",
    "    [\"FIFO\", \"First-completion\"], \n",
    "    \"Makespan procedure\", \n",
    "    \"RPD (%)\"\n",
    ")\n",
    "\n",
    "fig.update_layout(\n",
    "    xaxis_range=[-0.3,1.3],\n",
    "    xaxis_title=None\n",
    ")\n",
    "\n",
    "fig.show()\n",
    "\n",
    "if SAVE_IMAGE:\n",
    "    save_scatter_image(fig, \"0_makespan\")"
   ]
  },
  {
   "cell_type": "markdown",
   "id": "3564c084",
   "metadata": {},
   "source": [
    "### 1. Generational scheme"
   ]
  },
  {
   "cell_type": "code",
   "execution_count": null,
   "id": "48d85e06",
   "metadata": {},
   "outputs": [],
   "source": [
    "folders = [\"../solutions/generational\", \"../solutions/steady_state\"]\n",
    "\n",
    "fig = merge_and_plot(\n",
    "    folders, \n",
    "    [\"Generational\", \"Steady\"], \n",
    "    \"Generational Scheme\", \n",
    "    \"RPD (%)\"\n",
    ")\n",
    "\n",
    "fig.update_layout(\n",
    "    xaxis_range=[-0.3,1.3],\n",
    "    xaxis_title=None\n",
    ")\n",
    "\n",
    "fig.show()\n",
    "\n",
    "if SAVE_IMAGE:\n",
    "    save_scatter_image(fig, \"1_generational\")"
   ]
  },
  {
   "cell_type": "markdown",
   "id": "0609e967",
   "metadata": {},
   "source": [
    "### Initialisation"
   ]
  },
  {
   "cell_type": "code",
   "execution_count": null,
   "id": "5a17cd96",
   "metadata": {},
   "outputs": [],
   "source": [
    "new_names = {\"0.2\": \"GCH (0.2)\", \"0.5\": \"GCH (0.5)\", \"1.0\": \"GCH (1.0)\"}\n",
    "\n",
    "fig = single_file_plot(\n",
    "    \"../solutions/initialisation\", \n",
    "    [\"construction\"], \n",
    "    \"Initialisation\", \n",
    "    \"RPD (%)\",\n",
    "    new_names\n",
    ")\n",
    "\n",
    "\n",
    "fig.show()\n",
    "\n",
    "if SAVE_IMAGE:\n",
    "    save_scatter_image(fig, \"2_initialisation\")"
   ]
  },
  {
   "cell_type": "markdown",
   "id": "93d9c139",
   "metadata": {},
   "source": [
    "### Population size"
   ]
  },
  {
   "cell_type": "code",
   "execution_count": null,
   "id": "f264e41c",
   "metadata": {},
   "outputs": [],
   "source": [
    "fig = single_file_plot(\n",
    "    \"../solutions/popsize\", \n",
    "    [\"pop_size\"], \n",
    "    \"Population Size\", \n",
    "    \"RPD (%)\",\n",
    ")\n",
    "fig.show()\n",
    "\n",
    "if SAVE_IMAGE:\n",
    "    save_scatter_image(fig, \"3_popsize\")"
   ]
  },
  {
   "cell_type": "markdown",
   "id": "eb37d198",
   "metadata": {},
   "source": [
    "### Tournament size"
   ]
  },
  {
   "cell_type": "code",
   "execution_count": null,
   "id": "d215d47c",
   "metadata": {},
   "outputs": [],
   "source": [
    "fig = single_file_plot(\n",
    "    \"../solutions/k_tournament\", \n",
    "    [\"k_tournament\"], \n",
    "    \"Tournament Size\", \n",
    "    \"RPD (%)\", \n",
    ")\n",
    "\n",
    "fig.show()\n",
    "\n",
    "if SAVE_IMAGE:\n",
    "    save_scatter_image(fig, \"4_k_tournament\")"
   ]
  },
  {
   "cell_type": "markdown",
   "id": "00e74dda",
   "metadata": {},
   "source": [
    "### Crossover"
   ]
  },
  {
   "cell_type": "code",
   "execution_count": null,
   "id": "ea3b5ac1",
   "metadata": {},
   "outputs": [],
   "source": [
    "fig = single_file_plot(\n",
    "    \"../solutions/xover-q\", \n",
    "    [\"xover_type\"], \n",
    "    \"Crossover\", \n",
    "    \"RPD (%)\", \n",
    ")\n",
    "\n",
    "fig.show()\n",
    "\n",
    "if SAVE_IMAGE:\n",
    "    save_scatter_image(fig, \"5_crossover\")"
   ]
  },
  {
   "cell_type": "markdown",
   "id": "b65362c8",
   "metadata": {},
   "source": [
    "### Mutation"
   ]
  },
  {
   "cell_type": "code",
   "execution_count": null,
   "id": "edd09ba3",
   "metadata": {},
   "outputs": [],
   "source": [
    "fig = single_file_plot(\n",
    "    \"../solutions/mutation-random\", \n",
    "    [\"mutation_type\"], \n",
    "    \"Mutation type\", \n",
    "    \"RPD (%)\", \n",
    ")\n",
    "\n",
    "fig.show()\n",
    "\n",
    "if SAVE_IMAGE:\n",
    "    save_scatter_image(fig, \"6_mutation\")"
   ]
  },
  {
   "cell_type": "markdown",
   "id": "8d23677c",
   "metadata": {},
   "source": [
    "### Mutation probabilities"
   ]
  },
  {
   "cell_type": "code",
   "execution_count": null,
   "id": "dde986ff",
   "metadata": {},
   "outputs": [],
   "source": [
    "fig = single_file_plot(\n",
    "    \"../solutions/mutation-prob\", \n",
    "    [\"mutation_prob\"], \n",
    "    \"Pm\", \n",
    "    \"RPD (%)\"\n",
    ")\n",
    "\n",
    "fig.show()\n",
    "\n",
    "if SAVE_IMAGE:\n",
    "    save_scatter_image(fig, \"7_mutation-prob\")"
   ]
  },
  {
   "cell_type": "markdown",
   "id": "21ae255f",
   "metadata": {},
   "source": [
    "### Local search"
   ]
  },
  {
   "cell_type": "code",
   "execution_count": null,
   "id": "9d0fda71",
   "metadata": {},
   "outputs": [],
   "source": [
    "fig = single_file_plot(\n",
    "    \"../solutions/local_search\", \n",
    "    [\"approx_calc\"], \n",
    "    \"Iterations\", \n",
    "    \"RPD (%)\", \n",
    ")\n",
    "\n",
    "fig.show()\n",
    "\n",
    "if SAVE_IMAGE:\n",
    "    save_scatter_image(fig, \"8_local-search\")"
   ]
  },
  {
   "cell_type": "markdown",
   "id": "68c009de",
   "metadata": {},
   "source": [
    "### Crowding Deviation Distance"
   ]
  },
  {
   "cell_type": "code",
   "execution_count": null,
   "id": "c64b8d8d",
   "metadata": {},
   "outputs": [],
   "source": [
    "fig = single_file_plot(\n",
    "    \"../solutions/crowding-deviation\", \n",
    "    [\"crowding_scale\", \"k_nearest\"], \n",
    "    \"Crowding scale, k_nearest\", \n",
    "    \"RPD (%)\", \n",
    ")\n",
    "\n",
    "fig.update_layout(\n",
    "        width=650\n",
    "    )\n",
    "\n",
    "\n",
    "fig.show()\n",
    "\n",
    "if SAVE_IMAGE:\n",
    "    save_scatter_image(fig, \"9a_crowding-deviation\")"
   ]
  },
  {
   "cell_type": "markdown",
   "id": "748badf4",
   "metadata": {},
   "source": [
    "### Crowding Exact Match"
   ]
  },
  {
   "cell_type": "code",
   "execution_count": null,
   "id": "73481332",
   "metadata": {},
   "outputs": [],
   "source": [
    "fig = single_file_plot(\n",
    "    \"../solutions/crowding-exact\", \n",
    "    [\"crowding_scale\", \"k_nearest\"], \n",
    "    \"Crowding scale, k_nearest\", \n",
    "    \"RPD (%)\", \n",
    ")\n",
    "\n",
    "fig.update_layout(\n",
    "        width=600\n",
    "    )\n",
    "\n",
    "\n",
    "fig.show()\n",
    "\n",
    "if SAVE_IMAGE:\n",
    "    save_scatter_image(fig, \"9b_crowding-exact\")"
   ]
  },
  {
   "cell_type": "markdown",
   "id": "5e66c35e",
   "metadata": {},
   "source": [
    "### Crowding vs No Crowding"
   ]
  },
  {
   "cell_type": "code",
   "execution_count": null,
   "id": "fb070d33",
   "metadata": {},
   "outputs": [],
   "source": [
    "new_names = {\"DeviationDistance\": \"Deviation Distance\", \"ExactMatch\": \"Exact Match\"}\n",
    "\n",
    "fig = single_file_plot(\n",
    "    \"../solutions/crowding-all\", \n",
    "    [\"distance_metric\"], \n",
    "    \"Distance metric\", \n",
    "    \"RPD (%)\", \n",
    "    new_names\n",
    ")\n",
    "\n",
    "\n",
    "fig.show()\n",
    "\n",
    "if SAVE_IMAGE:\n",
    "    save_scatter_image(fig, \"9c_crowding-all\")"
   ]
  },
  {
   "cell_type": "markdown",
   "id": "e295de94",
   "metadata": {},
   "source": [
    "### Replacement"
   ]
  },
  {
   "cell_type": "code",
   "execution_count": null,
   "id": "45b77104",
   "metadata": {},
   "outputs": [],
   "source": [
    "fig = single_file_plot(\n",
    "    \"../solutions/replacement\", \n",
    "    [\"non_improving_iterations\", \"allways_keep\"], \n",
    "    \"Iterations, Keep\", \n",
    "    \"RPD (%)\", \n",
    ")\n",
    "\n",
    "fig.update_layout(\n",
    "        width=600\n",
    "    )\n",
    "\n",
    "\n",
    "fig.show()\n",
    "\n",
    "if SAVE_IMAGE:\n",
    "    save_scatter_image(fig, \"10a_replacement\")"
   ]
  },
  {
   "cell_type": "code",
   "execution_count": null,
   "id": "aa22d5e2",
   "metadata": {},
   "outputs": [],
   "source": [
    "new_names={\"No Replacement, 0\": \"No replacement\"}\n",
    "\n",
    "fig = single_file_plot(\n",
    "    \"../solutions/replacement-type\", \n",
    "    [\"rtype\", \"non_improving_iterations\"], \n",
    "    \"Replacement scheme, iterations\", \n",
    "    \"RPD (%)\", \n",
    "    new_names\n",
    ")\n",
    "\n",
    "fig.update_layout(\n",
    "        width=600,\n",
    "        xaxis_title=None\n",
    ")\n",
    "\n",
    "\n",
    "fig.show()\n",
    "\n",
    "if SAVE_IMAGE:\n",
    "    save_scatter_image(fig, \"10b_replacement-type\")"
   ]
  },
  {
   "cell_type": "code",
   "execution_count": null,
   "id": "f6e24463",
   "metadata": {},
   "outputs": [],
   "source": [
    "new_names={\"0.0\": \"No replacement\"}\n",
    "\n",
    "fig = single_file_plot(\n",
    "    \"../solutions/replacement-rate\", \n",
    "    [\"allways_keep\"], \n",
    "    \"Replacement rate\", \n",
    "    \"RPD (%)\", \n",
    "    new_names\n",
    ")\n",
    "\n",
    "fig.update_layout(\n",
    "        width=600,\n",
    ")\n",
    "\n",
    "\n",
    "fig.show()\n",
    "\n",
    "if SAVE_IMAGE:\n",
    "    save_scatter_image(fig, \"10c_replacement_rate\")"
   ]
  },
  {
   "cell_type": "markdown",
   "id": "3c7b7cfc",
   "metadata": {},
   "source": [
    "### Iterated Greedy"
   ]
  },
  {
   "cell_type": "code",
   "execution_count": null,
   "id": "0f92f850",
   "metadata": {},
   "outputs": [],
   "source": [
    "fig = single_file_plot(\n",
    "    \"../solutions/ig-params\", \n",
    "    [\"t\", \"d\"],\n",
    "    \"T, d\",\n",
    "    \"RPD (%)\", \n",
    ")\n",
    "\n",
    "fig.update_layout(\n",
    "        width=600\n",
    "    )\n",
    "\n",
    "\n",
    "fig.show()\n",
    "\n",
    "if SAVE_IMAGE:\n",
    "    save_scatter_image(fig, \"12_iterated-greedy\")"
   ]
  },
  {
   "cell_type": "markdown",
   "id": "f9a9c670",
   "metadata": {},
   "source": [
    "### Q-Learning Scaled"
   ]
  },
  {
   "cell_type": "code",
   "execution_count": null,
   "id": "5a3ceb37",
   "metadata": {},
   "outputs": [],
   "source": [
    "fig = single_file_plot(\n",
    "    \"../solutions/qlearning\", \n",
    "    [\"learning_rate\", \"epsilon\"], \n",
    "    \"Learning rate, epsilon\", \n",
    "    \"RPD (%)\", \n",
    ")\n",
    "\n",
    "fig.show()\n",
    "\n",
    "if SAVE_IMAGE:\n",
    "    save_scatter_image(fig, \"5b_qlearning\")"
   ]
  },
  {
   "cell_type": "markdown",
   "id": "c8fc96c3",
   "metadata": {},
   "source": [
    "### Q-Learning Non-Scaled Time"
   ]
  },
  {
   "cell_type": "code",
   "execution_count": null,
   "id": "0744db75",
   "metadata": {},
   "outputs": [],
   "source": [
    "fig = single_file_plot(\n",
    "    \"../solutions/qlearning-noscale\", \n",
    "    [\"learning_rate\", \"epsilon\"], \n",
    "    \"Learning rate, epsilon\", \n",
    "    \"RPD (%)\", \n",
    ")\n",
    "\n",
    "fig.show()\n",
    "\n",
    "if SAVE_IMAGE:\n",
    "    save_scatter_image(fig, \"5c_qlearning-noscale\")"
   ]
  },
  {
   "cell_type": "code",
   "execution_count": null,
   "id": "25eb1473",
   "metadata": {},
   "outputs": [],
   "source": []
  }
 ],
 "metadata": {
  "kernelspec": {
   "display_name": "env",
   "language": "python",
   "name": "env"
  },
  "language_info": {
   "codemirror_mode": {
    "name": "ipython",
    "version": 3
   },
   "file_extension": ".py",
   "mimetype": "text/x-python",
   "name": "python",
   "nbconvert_exporter": "python",
   "pygments_lexer": "ipython3",
   "version": "3.8.6"
  }
 },
 "nbformat": 4,
 "nbformat_minor": 5
}
