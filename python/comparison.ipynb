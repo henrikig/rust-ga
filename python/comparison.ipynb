{
 "cells": [
  {
   "cell_type": "code",
   "execution_count": null,
   "id": "9794293c",
   "metadata": {},
   "outputs": [],
   "source": [
    "from utils import merge_and_plot, merge_and_line, merge_and_line_stages, parse_size, parse_stage, calc_rpd, calc_stats\n",
    "import os\n",
    "import pandas as pd"
   ]
  },
  {
   "cell_type": "code",
   "execution_count": null,
   "id": "2c15ffe0",
   "metadata": {},
   "outputs": [],
   "source": [
    "SAVE_IMAGE = False\n",
    "\n",
    "# Save image as file\n",
    "def save_comparison_image(fig, filename):\n",
    "    if not os.path.exists(\"images/comparison\"):\n",
    "        os.mkdir(\"images/comparison\")\n",
    "\n",
    "    fig.write_image(\"images/comparison/\" + filename + \".pdf\")"
   ]
  },
  {
   "cell_type": "code",
   "execution_count": null,
   "id": "154ec210",
   "metadata": {},
   "outputs": [],
   "source": [
    "folders = [\"../solutions/ga\", \"../solutions/ig\", \"../solutions/mddr\", \"../solutions/neh\"]\n",
    "\n",
    "fig = merge_and_plot(\n",
    "    folders, \n",
    "    [\"GA\", \"IG\", \"MDDR\", \"NEH\"], \n",
    "    \"Algorithm\", \n",
    "    \"RPD (%)\"\n",
    ")\n",
    "\n",
    "fig.show()\n",
    "\n",
    "if SAVE_IMAGE:\n",
    "    save_comparison_image(fig, \"1_comparison_scatter\")"
   ]
  },
  {
   "cell_type": "code",
   "execution_count": null,
   "id": "9d887dc2",
   "metadata": {},
   "outputs": [],
   "source": [
    "fig = merge_and_line(\n",
    "        folders, \n",
    "        [\"GA\", \"IG\", \"MDDR\", \"NEH\"], \n",
    "        \"Number of jobs\", \n",
    "        \"RPD (%)\"\n",
    "    )\n",
    "\n",
    "fig.show()\n",
    "\n",
    "if SAVE_IMAGE:\n",
    "    save_comparison_image(fig, \"2_comparison_line\")"
   ]
  },
  {
   "cell_type": "code",
   "execution_count": null,
   "id": "least-winner",
   "metadata": {},
   "outputs": [],
   "source": [
    "fig = merge_and_line_stages(\n",
    "        folders, \n",
    "        [\"GA\", \"IG\", \"MDDR\", \"NEH\"], \n",
    "        \"Number of stages\", \n",
    "        \"RPD (%)\"\n",
    "    )\n",
    "\n",
    "fig.show()\n",
    "\n",
    "if True:\n",
    "    save_comparison_image(fig, \"2b_comparison_stages\")"
   ]
  },
  {
   "cell_type": "code",
   "execution_count": null,
   "id": "1e3c55ad",
   "metadata": {},
   "outputs": [],
   "source": [
    "folders = [\"../solutions/ga\", \"../solutions/ig\", \"../solutions/neh\"]\n",
    "\n",
    "fig = merge_and_plot(\n",
    "    folders, \n",
    "    [\"GA\", \"IG\", \"NEH\"], \n",
    "    \"Algorithm\", \n",
    "    \"RPD (%)\"\n",
    ")\n",
    "\n",
    "fig.show()\n",
    "\n",
    "if SAVE_IMAGE:\n",
    "    save_comparison_image(fig, \"3_no_mddr_scatter\")"
   ]
  },
  {
   "cell_type": "code",
   "execution_count": null,
   "id": "62866e39",
   "metadata": {},
   "outputs": [],
   "source": [
    "fig = merge_and_line(\n",
    "        folders, \n",
    "        [\"GA\", \"IG\", \"NEH\"], \n",
    "        \"Number of jobs\", \n",
    "        \"RPD (%)\"\n",
    "    )\n",
    "\n",
    "fig.show()\n",
    "\n",
    "if SAVE_IMAGE:\n",
    "    save_comparison_image(fig, \"4_no_mddr_line\")"
   ]
  },
  {
   "cell_type": "code",
   "execution_count": null,
   "id": "04cbd89a",
   "metadata": {},
   "outputs": [],
   "source": [
    "folders = [\"../solutions/ga\", \"../solutions/ig\"]\n",
    "\n",
    "fig = merge_and_plot(\n",
    "    folders, \n",
    "    [\"GA\", \"IG\"], \n",
    "    \"Algorithm\", \n",
    "    \"RPD (%)\"\n",
    ")\n",
    "\n",
    "fig.show()\n",
    "\n",
    "if SAVE_IMAGE:\n",
    "    save_comparison_image(fig, \"5_GA_vs_IG\")"
   ]
  },
  {
   "cell_type": "code",
   "execution_count": null,
   "id": "8bddc7d0",
   "metadata": {},
   "outputs": [],
   "source": [
    "fig = merge_and_line(\n",
    "        folders, \n",
    "        [\"GA\", \"IG\"], \n",
    "        \"Number of jobs\", \n",
    "        \"RPD (%)\"\n",
    "    )\n",
    "\n",
    "fig.show()\n",
    "\n",
    "if SAVE_IMAGE:\n",
    "    save_comparison_image(fig, \"6_GA_vs_IG_line\")"
   ]
  },
  {
   "cell_type": "markdown",
   "id": "dutch-digit",
   "metadata": {},
   "source": [
    "### Statistics"
   ]
  },
  {
   "cell_type": "code",
   "execution_count": null,
   "id": "focused-volleyball",
   "metadata": {},
   "outputs": [],
   "source": [
    "df = pd.read_csv(\"../solutions/all/results.csv\", header=None, names=[\"GA\", \"IG\", \"NEH\", \"MDDR\"])\n",
    "\n",
    "df.index = df.index.map(lambda x: parse_size(x))\n",
    "df.index.name = \"Size\"\n",
    "\n",
    "df"
   ]
  },
  {
   "cell_type": "code",
   "execution_count": null,
   "id": "falling-architect",
   "metadata": {},
   "outputs": [],
   "source": [
    "# Number of best solutions, grouped by number of jobs\n",
    "min_df = df.transform(lambda x: x == x.min(), axis=1)\n",
    "\n",
    "min_df.groupby(\"Size\").value_counts()\n",
    "\n",
    "# min_df.value_counts()"
   ]
  },
  {
   "cell_type": "code",
   "execution_count": null,
   "id": "relevant-restriction",
   "metadata": {
    "scrolled": true
   },
   "outputs": [],
   "source": [
    "df.groupby(min_df.index).agg([\"mean\"])"
   ]
  },
  {
   "cell_type": "code",
   "execution_count": null,
   "id": "south-labor",
   "metadata": {},
   "outputs": [],
   "source": [
    "rpd = calc_rpd(df)\n",
    "rpd"
   ]
  },
  {
   "cell_type": "code",
   "execution_count": null,
   "id": "conventional-immunology",
   "metadata": {},
   "outputs": [],
   "source": [
    "stats = calc_stats(rpd)\n",
    "stats"
   ]
  },
  {
   "cell_type": "code",
   "execution_count": null,
   "id": "superb-least",
   "metadata": {},
   "outputs": [],
   "source": []
  }
 ],
 "metadata": {
  "kernelspec": {
   "display_name": "env",
   "language": "python",
   "name": "env"
  },
  "language_info": {
   "codemirror_mode": {
    "name": "ipython",
    "version": 3
   },
   "file_extension": ".py",
   "mimetype": "text/x-python",
   "name": "python",
   "nbconvert_exporter": "python",
   "pygments_lexer": "ipython3",
   "version": "3.8.6"
  }
 },
 "nbformat": 4,
 "nbformat_minor": 5
}
