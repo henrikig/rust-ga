{
 "cells": [
  {
   "cell_type": "code",
   "execution_count": null,
   "id": "9794293c",
   "metadata": {},
   "outputs": [],
   "source": [
    "from utils import merge_and_plot, merge_and_line\n",
    "import os"
   ]
  },
  {
   "cell_type": "code",
   "execution_count": null,
   "id": "2c15ffe0",
   "metadata": {},
   "outputs": [],
   "source": [
    "SAVE_IMAGE = False\n",
    "\n",
    "# Save image as file\n",
    "def save_comparison_image(fig, filename):\n",
    "    if not os.path.exists(\"images/comparison\"):\n",
    "        os.mkdir(\"images/comparison\")\n",
    "\n",
    "    fig.write_image(\"images/comparison/\" + filename + \".pdf\")"
   ]
  },
  {
   "cell_type": "code",
   "execution_count": null,
   "id": "154ec210",
   "metadata": {},
   "outputs": [],
   "source": [
    "folders = [\"../solutions/ga\", \"../solutions/ig\", \"../solutions/mddr\", \"../solutions/neh\"]\n",
    "\n",
    "fig = merge_and_plot(\n",
    "    folders, \n",
    "    [\"GA\", \"IG\", \"MDDR\", \"NEH\"], \n",
    "    r\"$\\text{Algorithm}$\", \n",
    "    r\"$\\text{RPD(%)}$\"\n",
    ")\n",
    "\n",
    "fig.show()\n",
    "\n",
    "if SAVE_IMAGE:\n",
    "    save_comparison_image(fig, \"1_comparison_scatter\")"
   ]
  },
  {
   "cell_type": "code",
   "execution_count": null,
   "id": "9d887dc2",
   "metadata": {},
   "outputs": [],
   "source": [
    "fig = merge_and_line(\n",
    "        folders, \n",
    "        [\"GA\", \"IG\", \"MDDR\", \"NEH\"], \n",
    "        r\"$\\text{Number of jobs}$\", \n",
    "        r\"$\\text{RPD(%)}$\"\n",
    "    )\n",
    "\n",
    "fig.show()\n",
    "\n",
    "if SAVE_IMAGE:\n",
    "    save_comparison_image(fig, \"2_comparison_line\")"
   ]
  },
  {
   "cell_type": "code",
   "execution_count": null,
   "id": "1e3c55ad",
   "metadata": {},
   "outputs": [],
   "source": [
    "folders = [\"../solutions/ga\", \"../solutions/ig\", \"../solutions/neh\"]\n",
    "\n",
    "fig = merge_and_plot(\n",
    "    folders, \n",
    "    [\"GA\", \"IG\", \"NEH\"], \n",
    "    r\"$\\text{Algorithm}$\", \n",
    "    r\"$\\text{RPD(%)}$\"\n",
    ")\n",
    "\n",
    "fig.show()\n",
    "\n",
    "if SAVE_IMAGE:\n",
    "    save_comparison_image(fig, \"3_no_mddr_scatter\")"
   ]
  },
  {
   "cell_type": "code",
   "execution_count": null,
   "id": "62866e39",
   "metadata": {},
   "outputs": [],
   "source": [
    "fig = merge_and_line(\n",
    "        folders, \n",
    "        [\"GA\", \"IG\", \"NEH\"], \n",
    "        r\"$\\text{Number of jobs}$\", \n",
    "        r\"$\\text{RPD(%)}$\"\n",
    "    )\n",
    "\n",
    "fig.show()\n",
    "\n",
    "if SAVE_IMAGE:\n",
    "    save_comparison_image(fig, \"4_no_mddr_line\")"
   ]
  },
  {
   "cell_type": "code",
   "execution_count": null,
   "id": "04cbd89a",
   "metadata": {},
   "outputs": [],
   "source": [
    "folders = [\"../solutions/ga\", \"../solutions/ig\"]\n",
    "\n",
    "fig = merge_and_plot(\n",
    "    folders, \n",
    "    [\"GA\", \"IG\"], \n",
    "    r\"$\\text{Algorithm}$\", \n",
    "    r\"$\\text{RPD(%)}$\"\n",
    ")\n",
    "\n",
    "fig.show()\n",
    "\n",
    "if SAVE_IMAGE:\n",
    "    save_comparison_image(fig, \"5_GA_vs_IG\")"
   ]
  },
  {
   "cell_type": "code",
   "execution_count": null,
   "id": "8bddc7d0",
   "metadata": {},
   "outputs": [],
   "source": [
    "fig = merge_and_line(\n",
    "        folders, \n",
    "        [\"GA\", \"IG\"], \n",
    "        r\"$\\text{Number of jobs}$\", \n",
    "        r\"$\\text{RPD(%)}$\"\n",
    "    )\n",
    "\n",
    "fig.show()\n",
    "\n",
    "if SAVE_IMAGE:\n",
    "    save_comparison_image(fig, \"6_GA_vs_IG_line\")"
   ]
  },
  {
   "cell_type": "code",
   "execution_count": null,
   "id": "6500c5a3",
   "metadata": {},
   "outputs": [],
   "source": []
  }
 ],
 "metadata": {
  "kernelspec": {
   "display_name": "env",
   "language": "python",
   "name": "env"
  },
  "language_info": {
   "codemirror_mode": {
    "name": "ipython",
    "version": 3
   },
   "file_extension": ".py",
   "mimetype": "text/x-python",
   "name": "python",
   "nbconvert_exporter": "python",
   "pygments_lexer": "ipython3",
   "version": "3.8.6"
  }
 },
 "nbformat": 4,
 "nbformat_minor": 5
}
